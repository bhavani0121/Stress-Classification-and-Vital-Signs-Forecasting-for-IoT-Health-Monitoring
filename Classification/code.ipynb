{
 "cells": [
  {
   "cell_type": "code",
   "execution_count": 1,
   "metadata": {},
   "outputs": [],
   "source": [
    "import pandas as pd\n",
    "import numpy as np\n",
    "\n",
    "import matplotlib.pyplot as plt\n",
    "import seaborn as sns\n",
    "\n",
    "import scipy.stats as stats\n",
    "import scipy\n",
    "import statsmodels.formula.api as smf\n",
    "import statsmodels.api as sm\n",
    "\n",
    "from sklearn.metrics import plot_confusion_matrix\n",
    "from sklearn.metrics import precision_score\n",
    "from sklearn.metrics import recall_score\n",
    "from sklearn.metrics import confusion_matrix\n",
    "from sklearn.model_selection import train_test_split\n",
    "\n",
    "from sklearn.metrics import classification_report, confusion_matrix\n",
    "from sklearn import model_selection, preprocessing, feature_selection, ensemble, linear_model, metrics, decomposition\n",
    "from sklearn.discriminant_analysis import LinearDiscriminantAnalysis\n",
    "from sklearn.discriminant_analysis import QuadraticDiscriminantAnalysis\n",
    "from sklearn.neighbors import KNeighborsClassifier\n",
    "from sklearn.linear_model import LogisticRegression\n",
    "from sklearn.tree import DecisionTreeClassifier\n",
    "from sklearn.ensemble import GradientBoostingClassifier\n",
    "from xgboost import XGBClassifier\n",
    "from sklearn.ensemble import RandomForestClassifier\n",
    "from sklearn.svm import SVC\n",
    "import warnings\n",
    "\n",
    "#sns.set_style(\"whitegrid\", {\"grid.color\":\"k\",\"grid.linewidth\":\"2\", \"grid.linestyle\": \":\"})\n",
    "warnings.filterwarnings('ignore')"
   ]
  },
  {
   "cell_type": "code",
   "execution_count": 2,
   "metadata": {},
   "outputs": [
    {
     "data": {
      "text/plain": [
       "Unnamed: 0      int64\n",
       "ax            float64\n",
       "ay            float64\n",
       "az            float64\n",
       "SpO2          float64\n",
       "hr            float64\n",
       "class          object\n",
       "age             int64\n",
       "Gender         object\n",
       "heigth          int64\n",
       "weigth          int64\n",
       "dtype: object"
      ]
     },
     "execution_count": 2,
     "metadata": {},
     "output_type": "execute_result"
    }
   ],
   "source": [
    "df = pd.read_csv(\"Final_Data_set.csv\")\n",
    "df.dtypes\n",
    "df=df.drop(['temp',\"EDA\"],axis=1)\n",
    "df.dtypes"
   ]
  },
  {
   "cell_type": "code",
   "execution_count": 3,
   "metadata": {},
   "outputs": [
    {
     "data": {
      "text/plain": [
       "ax          0.456301\n",
       "ay         -0.735039\n",
       "az         -0.184105\n",
       "SpO2       95.896624\n",
       "hr         79.591385\n",
       "age        27.899632\n",
       "heigth    170.111067\n",
       "weigth     69.108393\n",
       "dtype: float64"
      ]
     },
     "execution_count": 3,
     "metadata": {},
     "output_type": "execute_result"
    }
   ],
   "source": [
    "df=df.iloc[:,1:]\n",
    "df.mean()"
   ]
  },
  {
   "cell_type": "code",
   "execution_count": 4,
   "metadata": {},
   "outputs": [
    {
     "data": {
      "image/png": "[encoded data removed]",
      "text/plain": [
       "<Figure size 720x720 with 1 Axes>"
      ]
     },
     "metadata": {},
     "output_type": "display_data"
    }
   ],
   "source": [
    "sns.set(style='white',font_scale=1.1)\n",
    "fig = plt.figure(figsize=(10,10))\n",
    "ax = sns.countplot(data=df,x='class',palette='pink')\n",
    "ax.set_xticklabels(['Relax','Physical','Cognitive',\"Emotional\"])\n",
    "for p in ax.patches:\n",
    "        ax.annotate(str(p.get_height())+' ('+str((p.get_height()/len(df)*100).round(1))+'%)', (p.get_x()+0.1, p.get_height()+400))\n",
    "plt.xlabel('Type of Stress',weight='bold',fontsize='15')\n",
    "plt.ylabel('Count',weight='bold',fontsize='15') \n",
    "sns.despine()\n"
   ]
  },
  {
   "cell_type": "code",
   "execution_count": 5,
   "metadata": {},
   "outputs": [],
   "source": [
    "#df[\"class\"].unique().sum()"
   ]
  },
  {
   "cell_type": "code",
   "execution_count": 5,
   "metadata": {},
   "outputs": [
    {
     "data": {
      "text/plain": [
       "-1.78997101"
      ]
     },
     "execution_count": 5,
     "metadata": {},
     "output_type": "execute_result"
    }
   ],
   "source": [
    "min(df[\"az\"])"
   ]
  },
  {
   "cell_type": "code",
   "execution_count": 6,
   "metadata": {},
   "outputs": [
    {
     "data": {
      "text/plain": [
       "2.14997909"
      ]
     },
     "execution_count": 6,
     "metadata": {},
     "output_type": "execute_result"
    }
   ],
   "source": [
    "max(df[\"az\"])"
   ]
  },
  {
   "cell_type": "code",
   "execution_count": 6,
   "metadata": {},
   "outputs": [
    {
     "data": {
      "text/plain": [
       "'df[\"A\"]=abs((df[\"ax\"])+(df[\"ay\"])+(df[\"az\"]))\\n#d=pd.DataFrame({\"Rest\": df[df[\"class\"]==\"Rest\"].A.mean(),\"Physical\": df[df[\"class\"]==\"Physical\"].A.mean()\\n #               ,\"Cognitive\": df[df[\"class\"]==\"Cognitive\"].A.mean(),\"Emotional\": df[df[\"class\"]==\"Emotional\"].A.mean()},index={\"mean\"})\\n'"
      ]
     },
     "execution_count": 6,
     "metadata": {},
     "output_type": "execute_result"
    }
   ],
   "source": [
    "\"\"\"df[\"A\"]=abs((df[\"ax\"])+(df[\"ay\"])+(df[\"az\"]))\n",
    "#d=pd.DataFrame({\"Rest\": df[df[\"class\"]==\"Rest\"].A.mean(),\"Physical\": df[df[\"class\"]==\"Physical\"].A.mean()\n",
    " #               ,\"Cognitive\": df[df[\"class\"]==\"Cognitive\"].A.mean(),\"Emotional\": df[df[\"class\"]==\"Emotional\"].A.mean()},index={\"mean\"})\n",
    "\"\"\"\n"
   ]
  },
  {
   "cell_type": "code",
   "execution_count": 7,
   "metadata": {},
   "outputs": [
    {
     "data": {
      "text/plain": [
       "'classes = [\\'Physical\\',\\'Cognitive\\',\"Emotional\",\\'Rest\\']\\nplt.figure(figsize=(15,7.5))\\nfor C in classes:\\n    subset = df[df[\\'class\\'] == C]\\n    sns.distplot((subset[\\'ax\\']), hist = False, kde = True,\\n                 kde_kws = {\\'shade\\': True,\\'linewidth\\': 5,\\'bw_adjust\\':2},\\n                 label = C)\\nplt.legend()\\n#plt.xticks(range(-2,2,1))\\nplt.xlabel(\"X\",size=20)\\nplt.ylabel(\"Density\",size=20)\\nplt.grid()\\n'"
      ]
     },
     "execution_count": 7,
     "metadata": {},
     "output_type": "execute_result"
    }
   ],
   "source": [
    "\"\"\"classes = ['Physical','Cognitive',\"Emotional\",'Rest']\n",
    "plt.figure(figsize=(15,7.5))\n",
    "for C in classes:\n",
    "    subset = df[df['class'] == C]\n",
    "    sns.distplot((subset['ax']), hist = False, kde = True,\n",
    "                 kde_kws = {'shade': True,'linewidth': 5,'bw_adjust':2},\n",
    "                 label = C)\n",
    "plt.legend()\n",
    "#plt.xticks(range(-2,2,1))\n",
    "plt.xlabel(\"X\",size=20)\n",
    "plt.ylabel(\"Density\",size=20)\n",
    "plt.grid()\n",
    "\"\"\""
   ]
  },
  {
   "cell_type": "code",
   "execution_count": 8,
   "metadata": {},
   "outputs": [
    {
     "data": {
      "text/plain": [
       "'\\nclasses = [\\'Physical\\',\\'Cognitive\\',\"Emotional\",\\'Rest\\']\\nplt.figure(figsize=(15,7.5))\\nfor C in classes:\\n    subset = df[df[\\'class\\'] == C]\\n    sns.distplot((subset[\\'ay\\']), hist = False, kde = True,\\n                 kde_kws = {\\'shade\\': True,\\'linewidth\\': 5,\\'bw_adjust\\':2},\\n                 label = C)\\nplt.legend()\\n#plt.xticks(range(-2,2,1))\\nplt.xlabel(\"Y\",size=20)\\nplt.ylabel(\"Density\",size=20)\\nplt.grid()\\n'"
      ]
     },
     "execution_count": 8,
     "metadata": {},
     "output_type": "execute_result"
    }
   ],
   "source": [
    "\"\"\"\n",
    "classes = ['Physical','Cognitive',\"Emotional\",'Rest']\n",
    "plt.figure(figsize=(15,7.5))\n",
    "for C in classes:\n",
    "    subset = df[df['class'] == C]\n",
    "    sns.distplot((subset['ay']), hist = False, kde = True,\n",
    "                 kde_kws = {'shade': True,'linewidth': 5,'bw_adjust':2},\n",
    "                 label = C)\n",
    "plt.legend()\n",
    "#plt.xticks(range(-2,2,1))\n",
    "plt.xlabel(\"Y\",size=20)\n",
    "plt.ylabel(\"Density\",size=20)\n",
    "plt.grid()\n",
    "\"\"\""
   ]
  },
  {
   "cell_type": "code",
   "execution_count": 9,
   "metadata": {},
   "outputs": [
    {
     "data": {
      "text/plain": [
       "'classes = [\\'Physical\\',\\'Cognitive\\',\"Emotional\",\\'Rest\\']\\nplt.figure(figsize=(15,7.5))\\nfor C in classes:\\n    subset = df[df[\\'class\\'] == C]\\n    sns.distplot((subset[\\'az\\']), hist = False, kde = True,\\n                 kde_kws = {\\'shade\\': True,\\'linewidth\\': 5,\\'bw_adjust\\':2},\\n                 label = C)\\nplt.legend()\\n#plt.xticks(range(-2,2,1))\\nplt.xlabel(\"Z\",size=20)\\nplt.ylabel(\"Density\",size=20)\\nplt.grid()\\n'"
      ]
     },
     "execution_count": 9,
     "metadata": {},
     "output_type": "execute_result"
    }
   ],
   "source": [
    "\"\"\"classes = ['Physical','Cognitive',\"Emotional\",'Rest']\n",
    "plt.figure(figsize=(15,7.5))\n",
    "for C in classes:\n",
    "    subset = df[df['class'] == C]\n",
    "    sns.distplot((subset['az']), hist = False, kde = True,\n",
    "                 kde_kws = {'shade': True,'linewidth': 5,'bw_adjust':2},\n",
    "                 label = C)\n",
    "plt.legend()\n",
    "#plt.xticks(range(-2,2,1))\n",
    "plt.xlabel(\"Z\",size=20)\n",
    "plt.ylabel(\"Density\",size=20)\n",
    "plt.grid()\n",
    "\"\"\""
   ]
  },
  {
   "cell_type": "code",
   "execution_count": 10,
   "metadata": {},
   "outputs": [],
   "source": [
    "#df=df.drop(\"A\",axis=1)"
   ]
  },
  {
   "cell_type": "code",
   "execution_count": 11,
   "metadata": {},
   "outputs": [
    {
     "data": {
      "text/plain": [
       "'classes = [\\'Physical\\',\\'Cognitive\\',\"Emotional\",\\'Rest\\']\\nplt.figure(figsize=(15,7.5))\\nfor C in classes:\\n    subset = df[df[\\'class\\'] == C]\\n    sns.distplot(subset[subset[\"Gender\"]==\"M\"].hr, hist = False, kde = True,\\n                 kde_kws = {\\'shade\\': True,\\'linewidth\\': 5,\\'bw_adjust\\':2},\\n                 label = C,)\\nplt.legend()\\nplt.grid()\\nplt.xlabel(\"Heart Rate_Male\",size=20)\\nplt.ylabel(\"Density\",size=20)\\nplt.ylim([0,0.05])\\nplt.xlim([30,160])\\n'"
      ]
     },
     "execution_count": 11,
     "metadata": {},
     "output_type": "execute_result"
    }
   ],
   "source": [
    "\"\"\"classes = ['Physical','Cognitive',\"Emotional\",'Rest']\n",
    "plt.figure(figsize=(15,7.5))\n",
    "for C in classes:\n",
    "    subset = df[df['class'] == C]\n",
    "    sns.distplot(subset[subset[\"Gender\"]==\"M\"].hr, hist = False, kde = True,\n",
    "                 kde_kws = {'shade': True,'linewidth': 5,'bw_adjust':2},\n",
    "                 label = C,)\n",
    "plt.legend()\n",
    "plt.grid()\n",
    "plt.xlabel(\"Heart Rate_Male\",size=20)\n",
    "plt.ylabel(\"Density\",size=20)\n",
    "plt.ylim([0,0.05])\n",
    "plt.xlim([30,160])\n",
    "\"\"\""
   ]
  },
  {
   "cell_type": "code",
   "execution_count": 12,
   "metadata": {},
   "outputs": [
    {
     "data": {
      "text/plain": [
       "'classes = [\\'Physical\\',\\'Cognitive\\',\"Emotional\",\\'Rest\\']\\nplt.figure(figsize=(15,7.5))\\nfor C in classes:\\n    subset = df[df[\\'class\\'] == C]\\n    sns.distplot(subset[subset[\"Gender\"]==\"F\"].hr, hist = False, kde = True,\\n                 kde_kws = {\\'shade\\':  True,\\'linewidth\\': 5,\\'bw_adjust\\':3},\\n                 label = C)\\nplt.legend()\\nplt.grid()\\nplt.xlabel(\"Heart Rate_Female\",size=20)\\nplt.ylabel(\"Density\",size=20)\\nplt.ylim([0,0.05])\\nplt.xlim([30,160])\\n'"
      ]
     },
     "execution_count": 12,
     "metadata": {},
     "output_type": "execute_result"
    }
   ],
   "source": [
    "\"\"\"classes = ['Physical','Cognitive',\"Emotional\",'Rest']\n",
    "plt.figure(figsize=(15,7.5))\n",
    "for C in classes:\n",
    "    subset = df[df['class'] == C]\n",
    "    sns.distplot(subset[subset[\"Gender\"]==\"F\"].hr, hist = False, kde = True,\n",
    "                 kde_kws = {'shade':  True,'linewidth': 5,'bw_adjust':3},\n",
    "                 label = C)\n",
    "plt.legend()\n",
    "plt.grid()\n",
    "plt.xlabel(\"Heart Rate_Female\",size=20)\n",
    "plt.ylabel(\"Density\",size=20)\n",
    "plt.ylim([0,0.05])\n",
    "plt.xlim([30,160])\n",
    "\"\"\""
   ]
  },
  {
   "cell_type": "code",
   "execution_count": 26,
   "metadata": {},
   "outputs": [
    {
     "name": "stdout",
     "output_type": "stream",
     "text": [
      "96.35560910379677,11.906398209584767\n",
      "82.44922307521388,12.359859409245484\n",
      "75.12795147630122,10.890745922360193\n",
      "76.29746249961572,11.739027434729223\n"
     ]
    },
    {
     "data": {
      "text/plain": [
       "(30.0, 160.0)"
      ]
     },
     "execution_count": 26,
     "metadata": {},
     "output_type": "execute_result"
    },
    {
     "data": {
      "image/png": "[encoded data removed]",
      "text/plain": [
       "<Figure size 504x288 with 1 Axes>"
      ]
     },
     "metadata": {},
     "output_type": "display_data"
    }
   ],
   "source": [
    "classes = ['Physical','Cognitive',\"Emotional\",'Rest']\n",
    "plt.figure(figsize=(7,4))\n",
    "for C in classes:\n",
    "    subset = df[df['class'] == C]\n",
    "    sns.distplot(subset[\"hr\"], hist = False, kde = True,\n",
    "                 kde_kws = {'shade':  True,'linewidth': 5,'bw_adjust':3},\n",
    "                 label = C)\n",
    "    print(str(np.mean(subset[\"hr\"])) + \",\" +str(np.std(subset[\"hr\"])))\n",
    "    #plt.axvline(x=np.mean(subset[\"hr\"]))\n",
    "plt.legend()\n",
    "plt.grid()\n",
    "plt.xlabel(\"Heart Rate\",size=15)\n",
    "plt.ylabel(\"Density\",size=15)\n",
    "#plt.ylim([0,0.05])\n",
    "plt.xlim([30,160])"
   ]
  },
  {
   "cell_type": "code",
   "execution_count": 27,
   "metadata": {},
   "outputs": [
    {
     "name": "stdout",
     "output_type": "stream",
     "text": [
      "95.52531619715093,2.04871109572662\n",
      "96.569297620679,1.630296335183284\n",
      "95.71697726301896,1.5940166396415782\n",
      "95.87017434649889,1.3819639828016674\n"
     ]
    },
    {
     "data": {
      "image/png": "[encoded data removed]",
      "text/plain": [
       "<Figure size 504x288 with 1 Axes>"
      ]
     },
     "metadata": {},
     "output_type": "display_data"
    }
   ],
   "source": [
    "classes = ['Physical','Cognitive',\"Emotional\",'Rest']\n",
    "plt.figure(figsize=(7,4))\n",
    "\n",
    "for C in classes:\n",
    "    subset = df[df['class'] == C]\n",
    "    sns.distplot(subset[\"SpO2\"], hist = False, kde = True,\n",
    "                 kde_kws = {'shade':  True,'linewidth': 5,'bw_adjust':3},\n",
    "                 label = C)\n",
    "    print(str(np.mean(subset[\"SpO2\"])) + \",\" +str(np.std(subset[\"SpO2\"])))\n",
    "plt.legend(loc='upper left')\n",
    "plt.xlabel(\"SpO2\",size=15)\n",
    "plt.ylabel(\"Density\",size=15)\n",
    "plt.xlim([85,103])\n",
    "plt.grid()"
   ]
  },
  {
   "cell_type": "code",
   "execution_count": 17,
   "metadata": {},
   "outputs": [
    {
     "name": "stdout",
     "output_type": "stream",
     "text": [
      "95.52531619715093,2.04871109572662\n",
      "96.569297620679,1.630296335183284\n",
      "95.71697726301896,1.5940166396415782\n",
      "95.87017434649889,1.3819639828016674\n"
     ]
    },
    {
     "data": {
      "image/png": "[encoded data removed]",
      "text/plain": [
       "<Figure size 504x360 with 1 Axes>"
      ]
     },
     "metadata": {},
     "output_type": "display_data"
    }
   ],
   "source": [
    "classes = ['Physical','Cognitive',\"Emotional\",'Rest']\n",
    "plt.figure(figsize=(7,5))\n",
    "\n",
    "for C in classes:\n",
    "    subset = df[df['class'] == C]\n",
    "    sns.distplot(subset[\"SpO2\"], hist = False, kde = True,\n",
    "                 kde_kws = {'shade':  True,'linewidth': 5,'bw_adjust':3},\n",
    "                 label = C)\n",
    "    print(str(np.mean(subset[\"SpO2\"])) + \",\" +str(np.std(subset[\"SpO2\"])))\n",
    "plt.legend(loc='upper left')\n",
    "plt.xlabel(\"SpO2\",size=15)\n",
    "plt.ylabel(\"Density\",size=15)\n",
    "plt.xlim([85,103])\n",
    "plt.grid()"
   ]
  },
  {
   "cell_type": "code",
   "execution_count": 18,
   "metadata": {},
   "outputs": [
    {
     "data": {
      "text/html": [
       "<div>\n",
       "<style scoped>\n",
       "    .dataframe tbody tr th:only-of-type {\n",
       "        vertical-align: middle;\n",
       "    }\n",
       "\n",
       "    .dataframe tbody tr th {\n",
       "        vertical-align: top;\n",
       "    }\n",
       "\n",
       "    .dataframe thead th {\n",
       "        text-align: right;\n",
       "    }\n",
       "</style>\n",
       "<table border=\"1\" class=\"dataframe\">\n",
       "  <thead>\n",
       "    <tr style=\"text-align: right;\">\n",
       "      <th></th>\n",
       "      <th>M_mean</th>\n",
       "      <th>F_mean</th>\n",
       "      <th>M_Std</th>\n",
       "      <th>F_std</th>\n",
       "    </tr>\n",
       "  </thead>\n",
       "  <tbody>\n",
       "    <tr>\n",
       "      <th>Rest</th>\n",
       "      <td>80.154488</td>\n",
       "      <td>72.420270</td>\n",
       "      <td>11.126960</td>\n",
       "      <td>11.041835</td>\n",
       "    </tr>\n",
       "    <tr>\n",
       "      <th>Physical</th>\n",
       "      <td>96.183944</td>\n",
       "      <td>96.527274</td>\n",
       "      <td>8.721753</td>\n",
       "      <td>14.407839</td>\n",
       "    </tr>\n",
       "    <tr>\n",
       "      <th>Emotional</th>\n",
       "      <td>79.073015</td>\n",
       "      <td>71.182888</td>\n",
       "      <td>10.412882</td>\n",
       "      <td>9.889338</td>\n",
       "    </tr>\n",
       "    <tr>\n",
       "      <th>Cognitive</th>\n",
       "      <td>88.682237</td>\n",
       "      <td>76.216209</td>\n",
       "      <td>12.041134</td>\n",
       "      <td>9.110127</td>\n",
       "    </tr>\n",
       "  </tbody>\n",
       "</table>\n",
       "</div>"
      ],
      "text/plain": [
       "              M_mean     F_mean      M_Std      F_std\n",
       "Rest       80.154488  72.420270  11.126960  11.041835\n",
       "Physical   96.183944  96.527274   8.721753  14.407839\n",
       "Emotional  79.073015  71.182888  10.412882   9.889338\n",
       "Cognitive  88.682237  76.216209  12.041134   9.110127"
      ]
     },
     "execution_count": 18,
     "metadata": {},
     "output_type": "execute_result"
    }
   ],
   "source": [
    "M=df[df['Gender']==\"M\"]\n",
    "M=pd.DataFrame({'Rest':M[M['class']== \"Rest\"].hr.describe(),'Physical':M[M['class']== \"Physical\"].hr.describe(),\n",
    "                'Emotional':M[M['class']== \"Emotional\"].hr.describe(),'Cognitive':M[M['class']== \"Cognitive\"].hr.describe()})\n",
    "M=M.iloc[1:3,:]\n",
    "M=M.transpose()\n",
    "#M.columns={\"M_mean\",\"M_std\"}\n",
    "M\n",
    "F=df[df['Gender']==\"F\"]\n",
    "F=pd.DataFrame({'Rest':F[F['class']== \"Rest\"].hr.describe(),'Physical':F[F['class']== \"Physical\"].hr.describe(),\n",
    "                'Emotional':F[F['class']== \"Emotional\"].hr.describe(),'Cognitive':F[F['class']== \"Cognitive\"].hr.describe()})\n",
    "F=F.iloc[1:3,:]\n",
    "F=F.transpose()\n",
    "#F.columns={\"F_std\",\"F_mean\"} \n",
    "F\n",
    "\n",
    "d=M.copy()\n",
    "d[\"F_mean\"]=F['mean']\n",
    "d[\"F_std\"]=F['std']\n",
    "d=pd.DataFrame({'M_mean':M[\"mean\"],'F_mean':F[\"mean\"],\"M_Std\":M[\"std\"],\"F_std\":F[\"std\"]})\n",
    "d"
   ]
  },
  {
   "cell_type": "markdown",
   "metadata": {},
   "source": [
    "# Encoding"
   ]
  },
  {
   "cell_type": "code",
   "execution_count": 5,
   "metadata": {},
   "outputs": [
    {
     "data": {
      "text/html": [
       "<div>\n",
       "<style scoped>\n",
       "    .dataframe tbody tr th:only-of-type {\n",
       "        vertical-align: middle;\n",
       "    }\n",
       "\n",
       "    .dataframe tbody tr th {\n",
       "        vertical-align: top;\n",
       "    }\n",
       "\n",
       "    .dataframe thead th {\n",
       "        text-align: right;\n",
       "    }\n",
       "</style>\n",
       "<table border=\"1\" class=\"dataframe\">\n",
       "  <thead>\n",
       "    <tr style=\"text-align: right;\">\n",
       "      <th></th>\n",
       "      <th>ax</th>\n",
       "      <th>ay</th>\n",
       "      <th>az</th>\n",
       "      <th>SpO2</th>\n",
       "      <th>hr</th>\n",
       "      <th>class</th>\n",
       "      <th>age</th>\n",
       "      <th>Gender</th>\n",
       "      <th>heigth</th>\n",
       "      <th>weigth</th>\n",
       "    </tr>\n",
       "  </thead>\n",
       "  <tbody>\n",
       "    <tr>\n",
       "      <th>0</th>\n",
       "      <td>0.760015</td>\n",
       "      <td>-0.869990</td>\n",
       "      <td>-0.100004</td>\n",
       "      <td>96.999969</td>\n",
       "      <td>89.000763</td>\n",
       "      <td>0</td>\n",
       "      <td>30</td>\n",
       "      <td>0</td>\n",
       "      <td>177</td>\n",
       "      <td>94</td>\n",
       "    </tr>\n",
       "    <tr>\n",
       "      <th>1</th>\n",
       "      <td>0.750005</td>\n",
       "      <td>-0.869990</td>\n",
       "      <td>-0.110031</td>\n",
       "      <td>96.999969</td>\n",
       "      <td>88.000137</td>\n",
       "      <td>0</td>\n",
       "      <td>30</td>\n",
       "      <td>0</td>\n",
       "      <td>177</td>\n",
       "      <td>94</td>\n",
       "    </tr>\n",
       "    <tr>\n",
       "      <th>2</th>\n",
       "      <td>0.750005</td>\n",
       "      <td>-0.869990</td>\n",
       "      <td>-0.110031</td>\n",
       "      <td>96.999969</td>\n",
       "      <td>87.000443</td>\n",
       "      <td>0</td>\n",
       "      <td>30</td>\n",
       "      <td>0</td>\n",
       "      <td>177</td>\n",
       "      <td>94</td>\n",
       "    </tr>\n",
       "    <tr>\n",
       "      <th>3</th>\n",
       "      <td>0.750005</td>\n",
       "      <td>-0.879993</td>\n",
       "      <td>-0.100004</td>\n",
       "      <td>96.999969</td>\n",
       "      <td>87.000443</td>\n",
       "      <td>0</td>\n",
       "      <td>30</td>\n",
       "      <td>0</td>\n",
       "      <td>177</td>\n",
       "      <td>94</td>\n",
       "    </tr>\n",
       "    <tr>\n",
       "      <th>4</th>\n",
       "      <td>0.760015</td>\n",
       "      <td>-0.859987</td>\n",
       "      <td>-0.100004</td>\n",
       "      <td>96.999969</td>\n",
       "      <td>87.000443</td>\n",
       "      <td>0</td>\n",
       "      <td>30</td>\n",
       "      <td>0</td>\n",
       "      <td>177</td>\n",
       "      <td>94</td>\n",
       "    </tr>\n",
       "  </tbody>\n",
       "</table>\n",
       "</div>"
      ],
      "text/plain": [
       "         ax        ay        az       SpO2         hr  class  age  Gender  \\\n",
       "0  0.760015 -0.869990 -0.100004  96.999969  89.000763      0   30       0   \n",
       "1  0.750005 -0.869990 -0.110031  96.999969  88.000137      0   30       0   \n",
       "2  0.750005 -0.869990 -0.110031  96.999969  87.000443      0   30       0   \n",
       "3  0.750005 -0.879993 -0.100004  96.999969  87.000443      0   30       0   \n",
       "4  0.760015 -0.859987 -0.100004  96.999969  87.000443      0   30       0   \n",
       "\n",
       "   heigth  weigth  \n",
       "0     177      94  \n",
       "1     177      94  \n",
       "2     177      94  \n",
       "3     177      94  \n",
       "4     177      94  "
      ]
     },
     "execution_count": 5,
     "metadata": {},
     "output_type": "execute_result"
    }
   ],
   "source": [
    "df[\"class\"]=pd.factorize(df['class'])[0]\n",
    "df[\"Gender\"]=pd.factorize(df['Gender'])[0]\n",
    "df.head(3)\n",
    "\n",
    "df.head()"
   ]
  },
  {
   "cell_type": "markdown",
   "metadata": {},
   "source": [
    "# Correlation"
   ]
  },
  {
   "cell_type": "code",
   "execution_count": 21,
   "metadata": {},
   "outputs": [
    {
     "data": {
      "text/plain": [
       "Text(0.5, 1.0, 'Pearson correlation')"
      ]
     },
     "execution_count": 21,
     "metadata": {},
     "output_type": "execute_result"
    },
    {
     "data": {
      "image/png": "[encoded data removed]",
      "text/plain": [
       "<Figure size 288x288 with 1 Axes>"
      ]
     },
     "metadata": {},
     "output_type": "display_data"
    }
   ],
   "source": [
    "corr_matrix = df.copy()\n",
    "corr_matrix=corr_matrix.drop([\"class\",\"heigth\",\"weigth\",\"age\",\"Gender\"],axis=1)\n",
    "for col in corr_matrix.columns:\n",
    "    if corr_matrix[col].dtype == \"O\":\n",
    "         corr_matrix[col] = corr_matrix[col].factorize(sort=True)[0]\n",
    "corr_matrix = corr_matrix.corr(method=\"pearson\")\n",
    "plt.figure(figsize=(4,4))\n",
    "sns.heatmap(corr_matrix, vmin=-1., vmax=1., annot=True, fmt='.3f', cmap=\"RdYlGn\",cbar=False, linewidths=0)#cmap=\"RdYlGn\"\n",
    "plt.title(\"Pearson correlation\",size= 15)"
   ]
  },
  {
   "cell_type": "markdown",
   "metadata": {},
   "source": [
    "# Feature importance"
   ]
  },
  {
   "cell_type": "code",
   "execution_count": 6,
   "metadata": {},
   "outputs": [],
   "source": [
    "df_1=df.copy()\n",
    "df_1[\"BMI\"] = (df_1[\"weigth\"]/(df_1[\"heigth\"])**2)*10000 # 11th feature   "
   ]
  },
  {
   "cell_type": "code",
   "execution_count": 7,
   "metadata": {},
   "outputs": [],
   "source": [
    "X = df_1.drop('class', axis=1)\n",
    "X = X.drop([\"heigth\",\"weigth\"],axis=1)\n",
    "y = df_1['class']"
   ]
  },
  {
   "cell_type": "code",
   "execution_count": 8,
   "metadata": {},
   "outputs": [
    {
     "data": {
      "image/png": "[encoded data removed]",
      "text/plain": [
       "<Figure size 360x360 with 1 Axes>"
      ]
     },
     "metadata": {},
     "output_type": "display_data"
    }
   ],
   "source": [
    "feature_names = X.columns.tolist()\n",
    "\n",
    "## Importance\n",
    "model = ensemble.RandomForestClassifier(random_state=1)\n",
    "model.fit(X,y)\n",
    "importances = model.feature_importances_\n",
    "\n",
    "## Put in a pandas dtf\n",
    "dtf_importances = pd.DataFrame({\"IMPORTANCE\":importances, \"VARIABLE\":feature_names})\n",
    "dtf_importances = dtf_importances.set_index(\"VARIABLE\")\n",
    "dtf_importances=dtf_importances.sort_values('IMPORTANCE',ascending=False)\n",
    "#plt.figure(figsize=(20,10))\n",
    "plt.figure(figsize=(5,5))\n",
    "plt.xlim(0,40)\n",
    "#sns.lineplot(y= dtf_importances.index,x='IMPORTANCE',data=dtf_importances*100,color=\"k\")\n",
    "s=sns.barplot(y= dtf_importances.index,x='IMPORTANCE',data=dtf_importances*100,color=\"b\")\n",
    "g=np.round(dtf_importances.values*100,2)\n",
    "plt.grid()\n",
    "for index, value in enumerate(g):\n",
    "    plt.text(value, index, str(value),size= 15)\n",
    "              #dtf_importances.sort_values('IMPORTANCE',ascending = False))"
   ]
  },
  {
   "cell_type": "code",
   "execution_count": 9,
   "metadata": {},
   "outputs": [
    {
     "data": {
      "text/html": [
       "<div>\n",
       "<style scoped>\n",
       "    .dataframe tbody tr th:only-of-type {\n",
       "        vertical-align: middle;\n",
       "    }\n",
       "\n",
       "    .dataframe tbody tr th {\n",
       "        vertical-align: top;\n",
       "    }\n",
       "\n",
       "    .dataframe thead th {\n",
       "        text-align: right;\n",
       "    }\n",
       "</style>\n",
       "<table border=\"1\" class=\"dataframe\">\n",
       "  <thead>\n",
       "    <tr style=\"text-align: right;\">\n",
       "      <th></th>\n",
       "      <th>IMPORTANCE</th>\n",
       "    </tr>\n",
       "    <tr>\n",
       "      <th>VARIABLE</th>\n",
       "      <th></th>\n",
       "    </tr>\n",
       "  </thead>\n",
       "  <tbody>\n",
       "    <tr>\n",
       "      <th>az</th>\n",
       "      <td>30.067587</td>\n",
       "    </tr>\n",
       "    <tr>\n",
       "      <th>hr</th>\n",
       "      <td>19.080345</td>\n",
       "    </tr>\n",
       "    <tr>\n",
       "      <th>ax</th>\n",
       "      <td>18.366642</td>\n",
       "    </tr>\n",
       "    <tr>\n",
       "      <th>ay</th>\n",
       "      <td>14.621228</td>\n",
       "    </tr>\n",
       "    <tr>\n",
       "      <th>SpO2</th>\n",
       "      <td>8.424438</td>\n",
       "    </tr>\n",
       "    <tr>\n",
       "      <th>BMI</th>\n",
       "      <td>4.225028</td>\n",
       "    </tr>\n",
       "    <tr>\n",
       "      <th>age</th>\n",
       "      <td>3.676056</td>\n",
       "    </tr>\n",
       "    <tr>\n",
       "      <th>Gender</th>\n",
       "      <td>1.538676</td>\n",
       "    </tr>\n",
       "  </tbody>\n",
       "</table>\n",
       "</div>"
      ],
      "text/plain": [
       "          IMPORTANCE\n",
       "VARIABLE            \n",
       "az         30.067587\n",
       "hr         19.080345\n",
       "ax         18.366642\n",
       "ay         14.621228\n",
       "SpO2        8.424438\n",
       "BMI         4.225028\n",
       "age         3.676056\n",
       "Gender      1.538676"
      ]
     },
     "execution_count": 9,
     "metadata": {},
     "output_type": "execute_result"
    }
   ],
   "source": [
    "dtf_importances*100 "
   ]
  },
  {
   "cell_type": "markdown",
   "metadata": {},
   "source": [
    "# Scaling"
   ]
  },
  {
   "cell_type": "code",
   "execution_count": 10,
   "metadata": {},
   "outputs": [
    {
     "data": {
      "text/plain": [
       "array([[ 0.61157055, -0.5167547 ,  0.23037945, ...,  0.51140502,\n",
       "        -0.99842271,  1.18745409],\n",
       "       [ 0.59141359, -0.5167547 ,  0.20291417, ...,  0.51140502,\n",
       "        -0.99842271,  1.18745409],\n",
       "       [ 0.59141359, -0.5167547 ,  0.20291417, ...,  0.51140502,\n",
       "        -0.99842271,  1.18745409],\n",
       "       ...,\n",
       "       [-1.48262609, -0.63166946,  1.07958573, ..., -2.16691344,\n",
       "         1.00157978, -0.85575452],\n",
       "       [-1.48262609, -0.63166946,  1.07958573, ..., -2.16691344,\n",
       "         1.00157978, -0.85575452],\n",
       "       [-1.48262609, -0.63166946,  1.07958573, ..., -2.16691344,\n",
       "         1.00157978, -0.85575452]])"
      ]
     },
     "execution_count": 10,
     "metadata": {},
     "output_type": "execute_result"
    }
   ],
   "source": [
    "#from sklearn.decomposition import PCA\n",
    "from sklearn.preprocessing import StandardScaler\n",
    "#pca = PCA(n_components=10)\n",
    "#X = pca.fit_transform(X)\n",
    "#X_test = pca.transform(X_test)\n",
    "\n",
    "sc = StandardScaler()\n",
    "X = sc.fit_transform(X)\n",
    "#X_test = sc.transform(X_test)\n",
    "X"
   ]
  },
  {
   "cell_type": "markdown",
   "metadata": {},
   "source": [
    "# Train_Test_Splitting"
   ]
  },
  {
   "cell_type": "code",
   "execution_count": 13,
   "metadata": {},
   "outputs": [
    {
     "name": "stdout",
     "output_type": "stream",
     "text": [
      "X_train shape: (18244, 8) | X_test shape: (4562, 8)\n",
      "y_train mean: 0.79 | y_test mean: 0.78\n",
      "8 features:\n"
     ]
    }
   ],
   "source": [
    "## Train_Test_Splitting \n",
    "from sklearn.model_selection import train_test_split\n",
    "X_train, X_test, y_train, y_test = model_selection.train_test_split(X, y, test_size = 0.20,random_state=1)\n",
    "print(\"X_train shape:\", X_train.shape, \"| X_test shape:\", X_test.shape)\n",
    "print(\"y_train mean:\", round(np.mean(y_train),2), \"| y_test mean:\", round(np.mean(y_test),2))\n",
    "print(X.shape[1], \"features:\")"
   ]
  },
  {
   "cell_type": "code",
   "execution_count": 24,
   "metadata": {},
   "outputs": [
    {
     "data": {
      "text/plain": [
       "array([[-1.03956632, -1.01452762, -0.34494034, ...,  1.24185552,\n",
       "         1.00157978,  2.45722646],\n",
       "       [-0.27452749, -0.09554776, -1.79668336, ...,  0.51140502,\n",
       "        -0.99842271,  0.16346271],\n",
       "       [-0.47575953,  0.97645252, -2.20754884, ..., -2.16691344,\n",
       "         1.00157978, -0.85575452],\n",
       "       ...,\n",
       "       [-0.49598532,  0.28739103, -2.15272114, ...,  0.51140502,\n",
       "        -0.99842271,  0.16346271],\n",
       "       [ 0.43033479, -0.7083985 ,  0.28509095, ..., -0.70601246,\n",
       "        -0.99842271, -0.43164187],\n",
       "       [-0.4959374 , -1.16773974,  0.20291417, ...,  0.51140502,\n",
       "        -0.99842271,  1.18745409]])"
      ]
     },
     "execution_count": 24,
     "metadata": {},
     "output_type": "execute_result"
    }
   ],
   "source": [
    "X_train"
   ]
  },
  {
   "cell_type": "code",
   "execution_count": 25,
   "metadata": {},
   "outputs": [
    {
     "data": {
      "text/plain": [
       "LogisticRegression(C=100)"
      ]
     },
     "execution_count": 25,
     "metadata": {},
     "output_type": "execute_result"
    }
   ],
   "source": [
    "## Model\n",
    "model = LogisticRegression(C=100)\n",
    "model.fit(X_train, y_train)"
   ]
  },
  {
   "cell_type": "code",
   "execution_count": 26,
   "metadata": {},
   "outputs": [
    {
     "name": "stdout",
     "output_type": "stream",
     "text": [
      "\n",
      "Accuracy Of  test :  0.7124068391056554\n",
      "\n",
      "Accuracy Of  train :  0.713659285244464\n",
      "              precision    recall  f1-score   support\n",
      "\n",
      "           0       0.70      0.96      0.81      2789\n",
      "           1       0.83      0.88      0.85       571\n",
      "           2       0.51      0.10      0.17       619\n",
      "           3       0.00      0.00      0.00       583\n",
      "\n",
      "    accuracy                           0.71      4562\n",
      "   macro avg       0.51      0.49      0.46      4562\n",
      "weighted avg       0.60      0.71      0.63      4562\n",
      "\n"
     ]
    }
   ],
   "source": [
    "y_pred = model.predict(X_test)\n",
    "y_ptrain= model.predict(X_train) \n",
    "\n",
    "cm = confusion_matrix(y_test,y_pred)\n",
    "accuracy = float(cm.diagonal().sum())/len(y_test)\n",
    "print(\"\\nAccuracy Of  test : \", accuracy)\n",
    "cm = confusion_matrix(y_train,y_ptrain)\n",
    "accuracy = float(cm.diagonal().sum())/len(y_train)\n",
    "print(\"\\nAccuracy Of  train : \", accuracy)\n",
    "print(classification_report(y_test, y_pred, labels=[0,1, 2,3]))"
   ]
  },
  {
   "cell_type": "code",
   "execution_count": 27,
   "metadata": {},
   "outputs": [],
   "source": [
    "## Model\n",
    "ldam=LinearDiscriminantAnalysis()\n",
    "model=ldam.fit(X_train, y_train)"
   ]
  },
  {
   "cell_type": "code",
   "execution_count": 28,
   "metadata": {},
   "outputs": [
    {
     "name": "stdout",
     "output_type": "stream",
     "text": [
      "\n",
      "Accuracy Of  test :  0.7099956159579132\n",
      "\n",
      "Accuracy Of  train :  0.7088905941679456\n",
      "              precision    recall  f1-score   support\n",
      "\n",
      "           0       0.70      0.96      0.81      2789\n",
      "           1       0.83      0.85      0.84       571\n",
      "           2       0.50      0.12      0.19       619\n",
      "           3       0.00      0.00      0.00       583\n",
      "\n",
      "    accuracy                           0.71      4562\n",
      "   macro avg       0.51      0.48      0.46      4562\n",
      "weighted avg       0.60      0.71      0.63      4562\n",
      "\n"
     ]
    }
   ],
   "source": [
    "y_pred = model.predict(X_test)\n",
    "y_ptrain= model.predict(X_train) \n",
    "\n",
    "cm = confusion_matrix(y_test,y_pred)\n",
    "accuracy = float(cm.diagonal().sum())/len(y_test)\n",
    "print(\"\\nAccuracy Of  test : \", accuracy)\n",
    "cm = confusion_matrix(y_train,y_ptrain)\n",
    "accuracy = float(cm.diagonal().sum())/len(y_train)\n",
    "print(\"\\nAccuracy Of  train : \", accuracy)\n",
    "print(classification_report(y_test, y_pred, labels=[0,1, 2,3]))"
   ]
  },
  {
   "cell_type": "code",
   "execution_count": 29,
   "metadata": {},
   "outputs": [
    {
     "data": {
      "text/plain": [
       "GaussianNB()"
      ]
     },
     "execution_count": 29,
     "metadata": {},
     "output_type": "execute_result"
    }
   ],
   "source": [
    "from sklearn.naive_bayes import GaussianNB\n",
    "\n",
    "#Create a Gaussian Classifier\n",
    "gnb = GaussianNB()\n",
    "\n",
    "#Train the model using the training sets\n",
    "gnb.fit(X_train, y_train)"
   ]
  },
  {
   "cell_type": "code",
   "execution_count": 30,
   "metadata": {},
   "outputs": [
    {
     "name": "stdout",
     "output_type": "stream",
     "text": [
      "\n",
      "Accuracy Of  test :  0.7115300306882946\n",
      "\n",
      "Accuracy Of  train :  0.7097127822845867\n",
      "              precision    recall  f1-score   support\n",
      "\n",
      "           0       0.72      0.94      0.81      2789\n",
      "           1       0.77      0.93      0.84       571\n",
      "           2       0.44      0.11      0.18       619\n",
      "           3       0.37      0.06      0.10       583\n",
      "\n",
      "    accuracy                           0.71      4562\n",
      "   macro avg       0.58      0.51      0.48      4562\n",
      "weighted avg       0.64      0.71      0.64      4562\n",
      "\n"
     ]
    }
   ],
   "source": [
    "y_pred = gnb.predict(X_test)\n",
    "y_ptrain= gnb.predict(X_train) \n",
    "\n",
    "cm = confusion_matrix(y_test,y_pred)\n",
    "accuracy = float(cm.diagonal().sum())/len(y_test)\n",
    "print(\"\\nAccuracy Of  test : \", accuracy)\n",
    "cm = confusion_matrix(y_train,y_ptrain)\n",
    "accuracy = float(cm.diagonal().sum())/len(y_train)\n",
    "print(\"\\nAccuracy Of  train : \", accuracy)\n",
    "print(classification_report(y_test, y_pred, labels=[0,1, 2,3]))"
   ]
  },
  {
   "cell_type": "code",
   "execution_count": 31,
   "metadata": {},
   "outputs": [],
   "source": [
    "## SVM Gauss\n",
    "svclassifier = SVC(kernel='rbf',random_state=1)\n",
    "model=svclassifier.fit(X_train, y_train)"
   ]
  },
  {
   "cell_type": "code",
   "execution_count": 32,
   "metadata": {},
   "outputs": [
    {
     "name": "stdout",
     "output_type": "stream",
     "text": [
      "\n",
      "Accuracy Of  test :  0.8185006576063131\n",
      "\n",
      "Accuracy Of  train :  0.827943433457575\n",
      "              precision    recall  f1-score   support\n",
      "\n",
      "           0       0.80      0.96      0.87      2789\n",
      "           1       0.91      0.96      0.94       571\n",
      "           2       0.81      0.59      0.68       619\n",
      "           3       0.80      0.25      0.38       583\n",
      "\n",
      "    accuracy                           0.82      4562\n",
      "   macro avg       0.83      0.69      0.72      4562\n",
      "weighted avg       0.82      0.82      0.79      4562\n",
      "\n"
     ]
    }
   ],
   "source": [
    "y_pred = model.predict(X_test)\n",
    "y_ptrain= model.predict(X_train) \n",
    "\n",
    "cm = confusion_matrix(y_test,y_pred)\n",
    "accuracy = float(cm.diagonal().sum())/len(y_test)\n",
    "print(\"\\nAccuracy Of  test : \", accuracy)\n",
    "cm = confusion_matrix(y_train,y_ptrain)\n",
    "accuracy = float(cm.diagonal().sum())/len(y_train)\n",
    "print(\"\\nAccuracy Of  train : \", accuracy)\n",
    "print(classification_report(y_test, y_pred, labels=[0,1, 2,3]))"
   ]
  },
  {
   "cell_type": "code",
   "execution_count": 33,
   "metadata": {},
   "outputs": [],
   "source": [
    "## Decision Tree\n",
    "DTClassifier= DecisionTreeClassifier(criterion='gini', random_state=0)\n",
    "model=DTClassifier.fit(X_train,y_train)"
   ]
  },
  {
   "cell_type": "code",
   "execution_count": 34,
   "metadata": {},
   "outputs": [
    {
     "name": "stdout",
     "output_type": "stream",
     "text": [
      "\n",
      "Accuracy Of  test :  0.9219640508548882\n",
      "\n",
      "Accuracy Of  train :  0.9833918000438501\n",
      "\n",
      "\n",
      "              precision    recall  f1-score   support\n",
      "\n",
      "           0       0.94      0.96      0.95      2789\n",
      "           1       0.94      0.95      0.94       571\n",
      "           2       0.88      0.83      0.86       619\n",
      "           3       0.87      0.83      0.85       583\n",
      "\n",
      "    accuracy                           0.92      4562\n",
      "   macro avg       0.91      0.89      0.90      4562\n",
      "weighted avg       0.92      0.92      0.92      4562\n",
      "\n"
     ]
    }
   ],
   "source": [
    "y_pred = model.predict(X_test)\n",
    "y_ptrain= model.predict(X_train) \n",
    "cm = confusion_matrix(y_test,y_pred)\n",
    "accuracy = float(cm.diagonal().sum())/len(y_test)\n",
    "print(\"\\nAccuracy Of  test : \", accuracy)\n",
    "cm = confusion_matrix(y_train,y_ptrain)\n",
    "accuracy = float(cm.diagonal().sum())/len(y_train)\n",
    "print(\"\\nAccuracy Of  train : \", accuracy)\n",
    "print(\"\\n\")\n",
    "print(classification_report(y_test, y_pred, labels=[0,1, 2,3]))"
   ]
  },
  {
   "cell_type": "code",
   "execution_count": 35,
   "metadata": {},
   "outputs": [
    {
     "name": "stdout",
     "output_type": "stream",
     "text": [
      "{'n_estimators': [200, 400, 600, 800, 1000], 'max_features': ['auto', 'sqrt'], 'max_depth': [10, 22, 35, 47, 60, None], 'min_samples_split': [2, 5, 10], 'min_samples_leaf': [1, 2, 4]}\n"
     ]
    }
   ],
   "source": [
    "from sklearn.model_selection import RandomizedSearchCV\n",
    "# Number of trees in random forest\n",
    "n_estimators = [int(x) for x in np.linspace(start = 200, stop = 1000, num = 5)]\n",
    "# Number of features to consider at every split\n",
    "max_features = ['auto', 'sqrt']\n",
    "# Maximum number of levels in tree\n",
    "max_depth = [int(x) for x in np.linspace(10, 60, 5)]\n",
    "max_depth.append(None)\n",
    "# Minimum number of samples required to split a node\n",
    "min_samples_split = [2, 5, 10]\n",
    "# Minimum number of samples required at each leaf node\n",
    "min_samples_leaf = [1, 2, 4]\n",
    "# Method of selecting samples for training each tree\n",
    "\n",
    "# Create the random grid\n",
    "random_grid = {'n_estimators': n_estimators,\n",
    "               'max_features': max_features,\n",
    "               'max_depth': max_depth,\n",
    "               'min_samples_split': min_samples_split,\n",
    "               'min_samples_leaf': min_samples_leaf}\n",
    "               \n",
    "             \n",
    "print(random_grid)"
   ]
  },
  {
   "cell_type": "code",
   "execution_count": 36,
   "metadata": {},
   "outputs": [
    {
     "name": "stdout",
     "output_type": "stream",
     "text": [
      "Fitting 3 folds for each of 100 candidates, totalling 300 fits\n"
     ]
    },
    {
     "data": {
      "text/plain": [
       "RandomizedSearchCV(cv=3, estimator=RandomForestClassifier(), n_iter=100,\n",
       "                   n_jobs=-1,\n",
       "                   param_distributions={'max_depth': [10, 22, 35, 47, 60, None],\n",
       "                                        'max_features': ['auto', 'sqrt'],\n",
       "                                        'min_samples_leaf': [1, 2, 4],\n",
       "                                        'min_samples_split': [2, 5, 10],\n",
       "                                        'n_estimators': [200, 400, 600, 800,\n",
       "                                                         1000]},\n",
       "                   random_state=42, scoring='accuracy', verbose=4)"
      ]
     },
     "execution_count": 36,
     "metadata": {},
     "output_type": "execute_result"
    }
   ],
   "source": [
    "rf = RandomForestClassifier()\n",
    "rf_random = RandomizedSearchCV(estimator = rf, param_distributions = random_grid,scoring=\"accuracy\",\n",
    "                               n_iter = 100, cv = 3, verbose=4, random_state=42, n_jobs = -1)\n",
    "rf_random.fit(X_train, y_train)"
   ]
  },
  {
   "cell_type": "code",
   "execution_count": 37,
   "metadata": {},
   "outputs": [
    {
     "data": {
      "text/plain": [
       "{'n_estimators': 1000,\n",
       " 'min_samples_split': 2,\n",
       " 'min_samples_leaf': 1,\n",
       " 'max_features': 'sqrt',\n",
       " 'max_depth': 35}"
      ]
     },
     "execution_count": 37,
     "metadata": {},
     "output_type": "execute_result"
    }
   ],
   "source": [
    "rf_random.best_params_"
   ]
  },
  {
   "cell_type": "code",
   "execution_count": 36,
   "metadata": {},
   "outputs": [
    {
     "name": "stdout",
     "output_type": "stream",
     "text": [
      "Fitting 3 folds for each of 100 candidates, totalling 300 fits\n"
     ]
    },
    {
     "data": {
      "text/plain": [
       "RandomizedSearchCV(cv=3, estimator=RandomForestClassifier(), n_iter=100,\n",
       "                   n_jobs=-1,\n",
       "                   param_distributions={'max_depth': [10, 22, 35, 47, 60, None],\n",
       "                                        'max_features': ['auto', 'sqrt'],\n",
       "                                        'min_samples_leaf': [1, 2, 4],\n",
       "                                        'min_samples_split': [2, 5, 10],\n",
       "                                        'n_estimators': [200, 400, 600, 800,\n",
       "                                                         1000]},\n",
       "                   random_state=42, scoring='accuracy', verbose=4)"
      ]
     },
     "execution_count": 36,
     "metadata": {},
     "output_type": "execute_result"
    }
   ],
   "source": [
    "rf = RandomForestClassifier()\n",
    "rf_random = RandomizedSearchCV(estimator = rf, param_distributions = random_grid,scoring=\"accuracy\",\n",
    "                               n_iter = 100, cv = 3, verbose=4, random_state=42, n_jobs = -1)\n",
    "rf_random.fit(X_train, y_train)"
   ]
  },
  {
   "cell_type": "code",
   "execution_count": 11,
   "metadata": {},
   "outputs": [
    {
     "name": "stdout",
     "output_type": "stream",
     "text": [
      "{'n_estimators': [200, 400, 600, 800, 1000], 'max_features': ['auto', 'sqrt'], 'max_depth': [10, 22, 35, 47, 60, None], 'min_samples_split': [2, 5, 10], 'min_samples_leaf': [1, 2, 4]}\n"
     ]
    }
   ],
   "source": [
    "from sklearn.model_selection import RandomizedSearchCV\n",
    "# Number of trees in random forest\n",
    "n_estimators = [int(x) for x in np.linspace(start = 200, stop = 1000, num = 5)]\n",
    "# Number of features to consider at every split\n",
    "max_features = ['auto', 'sqrt']\n",
    "# Maximum number of levels in tree\n",
    "max_depth = [int(x) for x in np.linspace(10, 60, 5)]\n",
    "max_depth.append(None)\n",
    "# Minimum number of samples required to split a node\n",
    "min_samples_split = [2, 5, 10]\n",
    "# Minimum number of samples required at each leaf node\n",
    "min_samples_leaf = [1, 2, 4]\n",
    "# Method of selecting samples for training each tree\n",
    "\n",
    "# Create the random grid\n",
    "random_grid = {'n_estimators': n_estimators,\n",
    "               'max_features': max_features,\n",
    "               'max_depth': max_depth,\n",
    "               'min_samples_split': min_samples_split,\n",
    "               'min_samples_leaf': min_samples_leaf}\n",
    "               \n",
    "             \n",
    "print(random_grid)"
   ]
  },
  {
   "cell_type": "code",
   "execution_count": 17,
   "metadata": {},
   "outputs": [
    {
     "name": "stdout",
     "output_type": "stream",
     "text": [
      "Fitting 3 folds for each of 100 candidates, totalling 300 fits\n"
     ]
    },
    {
     "data": {
      "text/plain": [
       "RandomizedSearchCV(cv=3, estimator=RandomForestClassifier(), n_iter=100,\n",
       "                   n_jobs=-1,\n",
       "                   param_distributions={'max_depth': [10, 22, 35, 47, 60, None],\n",
       "                                        'max_features': ['auto', 'sqrt'],\n",
       "                                        'min_samples_leaf': [1, 2, 4],\n",
       "                                        'min_samples_split': [2, 5, 10],\n",
       "                                        'n_estimators': [200, 400, 600, 800,\n",
       "                                                         1000]},\n",
       "                   random_state=42, scoring='accuracy', verbose=2)"
      ]
     },
     "execution_count": 17,
     "metadata": {},
     "output_type": "execute_result"
    }
   ],
   "source": [
    "rf = RandomForestClassifier()\n",
    "rf_random = RandomizedSearchCV(estimator = rf, param_distributions = random_grid,scoring=\"accuracy\",\n",
    "                               n_iter = 100, cv = 3, verbose=2, random_state=42, n_jobs = -1)\n",
    "rf_random.fit(X_train, y_train)"
   ]
  },
  {
   "cell_type": "code",
   "execution_count": 18,
   "metadata": {},
   "outputs": [
    {
     "data": {
      "text/plain": [
       "{'n_estimators': 600,\n",
       " 'min_samples_split': 2,\n",
       " 'min_samples_leaf': 1,\n",
       " 'max_features': 'sqrt',\n",
       " 'max_depth': 22}"
      ]
     },
     "execution_count": 18,
     "metadata": {},
     "output_type": "execute_result"
    }
   ],
   "source": [
    "rf_random.best_params_"
   ]
  },
  {
   "cell_type": "code",
   "execution_count": 38,
   "metadata": {},
   "outputs": [],
   "source": [
    "model=rf_random"
   ]
  },
  {
   "cell_type": "code",
   "execution_count": 39,
   "metadata": {},
   "outputs": [
    {
     "name": "stdout",
     "output_type": "stream",
     "text": [
      "\n",
      "Accuracy Of  test :  0.943445857080228\n",
      "\n",
      "Accuracy Of  train :  0.9833918000438501\n",
      "\n",
      "\n",
      "              precision    recall  f1-score   support\n",
      "\n",
      "           0       0.95      0.97      0.96      2789\n",
      "           1       0.95      0.98      0.96       571\n",
      "           2       0.93      0.84      0.89       619\n",
      "           3       0.91      0.89      0.90       583\n",
      "\n",
      "    accuracy                           0.94      4562\n",
      "   macro avg       0.94      0.92      0.93      4562\n",
      "weighted avg       0.94      0.94      0.94      4562\n",
      "\n"
     ]
    }
   ],
   "source": [
    "y_pred = model.predict(X_test)\n",
    "y_ptrain= model.predict(X_train) \n",
    "cm = confusion_matrix(y_test,y_pred)\n",
    "accuracy = float(cm.diagonal().sum())/len(y_test)\n",
    "print(\"\\nAccuracy Of  test : \", accuracy)\n",
    "cm = confusion_matrix(y_train,y_ptrain)\n",
    "accuracy = float(cm.diagonal().sum())/len(y_train)\n",
    "print(\"\\nAccuracy Of  train : \", accuracy)\n",
    "print(\"\\n\")\n",
    "print(classification_report(y_test, y_pred, labels=[0,1, 2,3]))"
   ]
  },
  {
   "cell_type": "code",
   "execution_count": 40,
   "metadata": {},
   "outputs": [
    {
     "name": "stdout",
     "output_type": "stream",
     "text": [
      "[09:32:25] WARNING: ..\\src\\learner.cc:1061: Starting in XGBoost 1.3.0, the default evaluation metric used with the objective 'multi:softprob' was changed from 'merror' to 'mlogloss'. Explicitly set eval_metric if you'd like to restore the old behavior.\n"
     ]
    },
    {
     "data": {
      "text/plain": [
       "XGBClassifier(base_score=0.5, booster='gbtree', colsample_bylevel=1,\n",
       "              colsample_bynode=1, colsample_bytree=1, gamma=0, gpu_id=-1,\n",
       "              importance_type='gain', interaction_constraints='',\n",
       "              learning_rate=0.300000012, max_delta_step=0, max_depth=6,\n",
       "              min_child_weight=1, missing=nan, monotone_constraints='()',\n",
       "              n_estimators=100, n_jobs=12, num_parallel_tree=1,\n",
       "              objective='multi:softprob', random_state=0, reg_alpha=0,\n",
       "              reg_lambda=1, scale_pos_weight=None, subsample=1,\n",
       "              tree_method='exact', validate_parameters=1, verbosity=None)"
      ]
     },
     "execution_count": 40,
     "metadata": {},
     "output_type": "execute_result"
    }
   ],
   "source": [
    "\n",
    "model = XGBClassifier()\n",
    "model.fit(X_train, y_train)"
   ]
  },
  {
   "cell_type": "code",
   "execution_count": 41,
   "metadata": {},
   "outputs": [
    {
     "name": "stdout",
     "output_type": "stream",
     "text": [
      "\n",
      "Accuracy Of  test :  0.9392810170977641\n",
      "\n",
      "Accuracy Of  train :  0.9707849155886867\n",
      "\n",
      "\n",
      "              precision    recall  f1-score   support\n",
      "\n",
      "           0       0.94      0.97      0.96      2789\n",
      "           1       0.97      0.98      0.97       571\n",
      "           2       0.94      0.82      0.88       619\n",
      "           3       0.91      0.85      0.88       583\n",
      "\n",
      "    accuracy                           0.94      4562\n",
      "   macro avg       0.94      0.91      0.92      4562\n",
      "weighted avg       0.94      0.94      0.94      4562\n",
      "\n"
     ]
    }
   ],
   "source": [
    "y_pred = model.predict(X_test)\n",
    "y_ptrain= model.predict(X_train) \n",
    "cm = confusion_matrix(y_test,y_pred)\n",
    "accuracy = float(cm.diagonal().sum())/len(y_test)\n",
    "print(\"\\nAccuracy Of  test : \", accuracy)\n",
    "cm = confusion_matrix(y_train,y_ptrain)\n",
    "accuracy = float(cm.diagonal().sum())/len(y_train)\n",
    "print(\"\\nAccuracy Of  train : \", accuracy)\n",
    "print(\"\\n\")\n",
    "print(classification_report(y_test, y_pred, labels=[0,1, 2,3]))"
   ]
  },
  {
   "cell_type": "code",
   "execution_count": 42,
   "metadata": {},
   "outputs": [],
   "source": [
    "## K - Neighbors\n",
    "\n",
    "training_accuracy = []\n",
    "test_accuracy = []\n",
    "# try n_neighbors from 1 to 10\n",
    "neighbors_settings = range(1, 30)\n",
    "\n",
    "for n_neighbors in neighbors_settings:\n",
    "    # build the model\n",
    "    knn = KNeighborsClassifier(n_neighbors=n_neighbors)\n",
    "    knn.fit(X_train, y_train)\n",
    "    # record training set accuracy\n",
    "    training_accuracy.append(knn.score(X_train, y_train))\n",
    "    # record test set accuracy\n",
    "    test_accuracy.append(knn.score(X_test, y_test))\n"
   ]
  },
  {
   "cell_type": "code",
   "execution_count": 43,
   "metadata": {},
   "outputs": [
    {
     "data": {
      "text/plain": [
       "[0.9351161771153003,\n",
       " 0.922840859272249,\n",
       " 0.9276633055677335,\n",
       " 0.9241560718982902,\n",
       " 0.9210872424375274,\n",
       " 0.9171416045594037,\n",
       " 0.9136343708899606,\n",
       " 0.9110039456378781,\n",
       " 0.9099079351161771,\n",
       " 0.9088119245944761,\n",
       " 0.9081543182814555,\n",
       " 0.9057430951337133,\n",
       " 0.9035510740903112,\n",
       " 0.9015782551512495,\n",
       " 0.8991670320035072,\n",
       " 0.8982902235861464,\n",
       " 0.8974134151687856,\n",
       " 0.8914949583516002,\n",
       " 0.8914949583516002,\n",
       " 0.89127575624726,\n",
       " 0.8906181499342394,\n",
       " 0.8893029373081982,\n",
       " 0.8871109162647961,\n",
       " 0.8877685225778168,\n",
       " 0.8849188952213941,\n",
       " 0.8846996931170539,\n",
       " 0.8842612889083735,\n",
       " 0.8827268741779921,\n",
       " 0.8790004384042087]"
      ]
     },
     "execution_count": 43,
     "metadata": {},
     "output_type": "execute_result"
    }
   ],
   "source": [
    "test_accuracy"
   ]
  },
  {
   "cell_type": "code",
   "execution_count": 44,
   "metadata": {},
   "outputs": [
    {
     "data": {
      "image/png": "[encoded data removed]",
      "text/plain": [
       "<Figure size 360x180 with 1 Axes>"
      ]
     },
     "metadata": {},
     "output_type": "display_data"
    }
   ],
   "source": [
    "plt.figure(figsize=(5,2.5))\n",
    "#plt.plot(neighbors_settings, training_accuracy, label=\"training accuracy\")\n",
    "plt.plot(neighbors_settings, test_accuracy,color='k', linestyle='dashed', marker='o',linewidth = 2,\n",
    "         markerfacecolor='blue', markersize=5)\n",
    "plt.ylabel(\"Accuracy\",size=15)\n",
    "plt.xlabel(\"Neighbors\",size=15)\n",
    "plt.grid()"
   ]
  },
  {
   "cell_type": "code",
   "execution_count": 45,
   "metadata": {},
   "outputs": [
    {
     "data": {
      "text/plain": [
       "KNeighborsClassifier(n_neighbors=1)"
      ]
     },
     "execution_count": 45,
     "metadata": {},
     "output_type": "execute_result"
    }
   ],
   "source": [
    "model=KNeighborsClassifier(n_neighbors=1)\n",
    "model.fit(X_train,y_train)"
   ]
  },
  {
   "cell_type": "code",
   "execution_count": 46,
   "metadata": {},
   "outputs": [
    {
     "name": "stdout",
     "output_type": "stream",
     "text": [
      "\n",
      "Accuracy Of  test :  0.9351161771153003\n",
      "\n",
      "Accuracy Of  train :  0.979883797412848\n",
      "\n",
      "\n",
      "              precision    recall  f1-score   support\n",
      "\n",
      "           0       0.95      0.96      0.95      2789\n",
      "           1       0.95      0.97      0.96       571\n",
      "           2       0.92      0.86      0.89       619\n",
      "           3       0.88      0.87      0.87       583\n",
      "\n",
      "    accuracy                           0.94      4562\n",
      "   macro avg       0.92      0.91      0.92      4562\n",
      "weighted avg       0.93      0.94      0.93      4562\n",
      "\n"
     ]
    }
   ],
   "source": [
    "y_pred = model.predict(X_test)\n",
    "y_ptrain= model.predict(X_train) \n",
    "cm = confusion_matrix(y_test,y_pred)\n",
    "accuracy = float(cm.diagonal().sum())/len(y_test)\n",
    "print(\"\\nAccuracy Of  test : \", accuracy)\n",
    "cm = confusion_matrix(y_train,y_ptrain)\n",
    "accuracy = float(cm.diagonal().sum())/len(y_train)\n",
    "print(\"\\nAccuracy Of  train : \", accuracy)\n",
    "print(\"\\n\")\n",
    "print(classification_report(y_test, y_pred, labels=[0,1, 2,3]))"
   ]
  }
 ],
 "metadata": {
  "kernelspec": {
   "display_name": "Python 3",
   "language": "python",
   "name": "python3"
  },
  "language_info": {
   "codemirror_mode": {
    "name": "ipython",
    "version": 3
   },
   "file_extension": ".py",
   "mimetype": "text/x-python",
   "name": "python",
   "nbconvert_exporter": "python",
   "pygments_lexer": "ipython3",
   "version": "3.8.8"
  }
 },
 "nbformat": 4,
 "nbformat_minor": 4
}
