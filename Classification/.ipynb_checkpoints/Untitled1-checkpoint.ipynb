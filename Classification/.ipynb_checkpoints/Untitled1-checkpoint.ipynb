{
 "cells": [
  {
   "cell_type": "code",
   "execution_count": 2,
   "metadata": {},
   "outputs": [],
   "source": [
    "import pandas as pd\n",
    "import numpy as np\n",
    "import matplotlib.pyplot as plt\n",
    "import seaborn as sns\n",
    "\n",
    "\n",
    "from sklearn.metrics import plot_confusion_matrix\n",
    "from sklearn.metrics import precision_score\n",
    "from sklearn.metrics import recall_score\n",
    "from sklearn.metrics import confusion_matrix\n",
    "from sklearn.model_selection import train_test_split\n",
    "\n",
    "\n",
    "from sklearn.discriminant_analysis import LinearDiscriminantAnalysis\n",
    "from sklearn.discriminant_analysis import QuadraticDiscriminantAnalysis\n",
    "from sklearn.neighbors import KNeighborsClassifier\n",
    "from sklearn.linear_model import LogisticRegression\n",
    "from sklearn.tree import DecisionTreeClassifier\n",
    "from sklearn.ensemble import GradientBoostingClassifier\n",
    "from sklearn.ensemble import RandomForestClassifier\n",
    "from sklearn.svm import SVC\n",
    "from sklearn.neural_network import MLPClassifier\n",
    "\n",
    "\n",
    "from sklearn.preprocessing import MinMaxScaler\n",
    "from sklearn.preprocessing import LabelEncoder\n",
    "lb_make = LabelEncoder()"
   ]
  },
  {
   "cell_type": "code",
   "execution_count": 3,
   "metadata": {},
   "outputs": [],
   "source": [
    "df=pd.read_csv(\"sub10.csv\")"
   ]
  },
  {
   "cell_type": "code",
   "execution_count": 5,
   "metadata": {},
   "outputs": [
    {
     "data": {
      "text/html": [
       "<div>\n",
       "<style scoped>\n",
       "    .dataframe tbody tr th:only-of-type {\n",
       "        vertical-align: middle;\n",
       "    }\n",
       "\n",
       "    .dataframe tbody tr th {\n",
       "        vertical-align: top;\n",
       "    }\n",
       "\n",
       "    .dataframe thead th {\n",
       "        text-align: right;\n",
       "    }\n",
       "</style>\n",
       "<table border=\"1\" class=\"dataframe\">\n",
       "  <thead>\n",
       "    <tr style=\"text-align: right;\">\n",
       "      <th></th>\n",
       "      <th>ax</th>\n",
       "      <th>ay</th>\n",
       "      <th>az</th>\n",
       "      <th>temp</th>\n",
       "      <th>EDA</th>\n",
       "      <th>SpO2</th>\n",
       "      <th>hr</th>\n",
       "      <th>class</th>\n",
       "    </tr>\n",
       "  </thead>\n",
       "  <tbody>\n",
       "    <tr>\n",
       "      <th>0</th>\n",
       "      <td>0.449968</td>\n",
       "      <td>-1.009969</td>\n",
       "      <td>-0.040004</td>\n",
       "      <td>27.000064</td>\n",
       "      <td>3.251014</td>\n",
       "      <td>96.999954</td>\n",
       "      <td>95.999908</td>\n",
       "      <td>Rest</td>\n",
       "    </tr>\n",
       "    <tr>\n",
       "      <th>1</th>\n",
       "      <td>0.449968</td>\n",
       "      <td>-1.009969</td>\n",
       "      <td>-0.040004</td>\n",
       "      <td>27.000064</td>\n",
       "      <td>3.256052</td>\n",
       "      <td>95.999939</td>\n",
       "      <td>95.999908</td>\n",
       "      <td>Rest</td>\n",
       "    </tr>\n",
       "    <tr>\n",
       "      <th>2</th>\n",
       "      <td>0.410031</td>\n",
       "      <td>-1.019987</td>\n",
       "      <td>-0.030003</td>\n",
       "      <td>27.000064</td>\n",
       "      <td>3.256052</td>\n",
       "      <td>95.999939</td>\n",
       "      <td>96.999924</td>\n",
       "      <td>Rest</td>\n",
       "    </tr>\n",
       "    <tr>\n",
       "      <th>3</th>\n",
       "      <td>-0.149989</td>\n",
       "      <td>-0.949998</td>\n",
       "      <td>0.199974</td>\n",
       "      <td>27.000064</td>\n",
       "      <td>3.256052</td>\n",
       "      <td>95.999939</td>\n",
       "      <td>95.999908</td>\n",
       "      <td>Rest</td>\n",
       "    </tr>\n",
       "    <tr>\n",
       "      <th>4</th>\n",
       "      <td>0.160001</td>\n",
       "      <td>-1.019987</td>\n",
       "      <td>0.039959</td>\n",
       "      <td>27.000064</td>\n",
       "      <td>3.256052</td>\n",
       "      <td>95.999939</td>\n",
       "      <td>95.999908</td>\n",
       "      <td>Rest</td>\n",
       "    </tr>\n",
       "  </tbody>\n",
       "</table>\n",
       "</div>"
      ],
      "text/plain": [
       "         ax        ay        az       temp       EDA       SpO2         hr  \\\n",
       "0  0.449968 -1.009969 -0.040004  27.000064  3.251014  96.999954  95.999908   \n",
       "1  0.449968 -1.009969 -0.040004  27.000064  3.256052  95.999939  95.999908   \n",
       "2  0.410031 -1.019987 -0.030003  27.000064  3.256052  95.999939  96.999924   \n",
       "3 -0.149989 -0.949998  0.199974  27.000064  3.256052  95.999939  95.999908   \n",
       "4  0.160001 -1.019987  0.039959  27.000064  3.256052  95.999939  95.999908   \n",
       "\n",
       "  class  \n",
       "0  Rest  \n",
       "1  Rest  \n",
       "2  Rest  \n",
       "3  Rest  \n",
       "4  Rest  "
      ]
     },
     "execution_count": 5,
     "metadata": {},
     "output_type": "execute_result"
    }
   ],
   "source": [
    "df.head()"
   ]
  },
  {
   "cell_type": "code",
   "execution_count": 6,
   "metadata": {},
   "outputs": [],
   "source": [
    "df['class']=pd.factorize(df['class'])[0]"
   ]
  },
  {
   "cell_type": "code",
   "execution_count": 7,
   "metadata": {},
   "outputs": [
    {
     "data": {
      "text/html": [
       "<div>\n",
       "<style scoped>\n",
       "    .dataframe tbody tr th:only-of-type {\n",
       "        vertical-align: middle;\n",
       "    }\n",
       "\n",
       "    .dataframe tbody tr th {\n",
       "        vertical-align: top;\n",
       "    }\n",
       "\n",
       "    .dataframe thead th {\n",
       "        text-align: right;\n",
       "    }\n",
       "</style>\n",
       "<table border=\"1\" class=\"dataframe\">\n",
       "  <thead>\n",
       "    <tr style=\"text-align: right;\">\n",
       "      <th></th>\n",
       "      <th>ax</th>\n",
       "      <th>ay</th>\n",
       "      <th>az</th>\n",
       "      <th>temp</th>\n",
       "      <th>EDA</th>\n",
       "      <th>SpO2</th>\n",
       "      <th>hr</th>\n",
       "      <th>class</th>\n",
       "    </tr>\n",
       "  </thead>\n",
       "  <tbody>\n",
       "    <tr>\n",
       "      <th>0</th>\n",
       "      <td>0.449968</td>\n",
       "      <td>-1.009969</td>\n",
       "      <td>-0.040004</td>\n",
       "      <td>27.000064</td>\n",
       "      <td>3.251014</td>\n",
       "      <td>96.999954</td>\n",
       "      <td>95.999908</td>\n",
       "      <td>0</td>\n",
       "    </tr>\n",
       "    <tr>\n",
       "      <th>1</th>\n",
       "      <td>0.449968</td>\n",
       "      <td>-1.009969</td>\n",
       "      <td>-0.040004</td>\n",
       "      <td>27.000064</td>\n",
       "      <td>3.256052</td>\n",
       "      <td>95.999939</td>\n",
       "      <td>95.999908</td>\n",
       "      <td>0</td>\n",
       "    </tr>\n",
       "    <tr>\n",
       "      <th>2</th>\n",
       "      <td>0.410031</td>\n",
       "      <td>-1.019987</td>\n",
       "      <td>-0.030003</td>\n",
       "      <td>27.000064</td>\n",
       "      <td>3.256052</td>\n",
       "      <td>95.999939</td>\n",
       "      <td>96.999924</td>\n",
       "      <td>0</td>\n",
       "    </tr>\n",
       "    <tr>\n",
       "      <th>3</th>\n",
       "      <td>-0.149989</td>\n",
       "      <td>-0.949998</td>\n",
       "      <td>0.199974</td>\n",
       "      <td>27.000064</td>\n",
       "      <td>3.256052</td>\n",
       "      <td>95.999939</td>\n",
       "      <td>95.999908</td>\n",
       "      <td>0</td>\n",
       "    </tr>\n",
       "    <tr>\n",
       "      <th>4</th>\n",
       "      <td>0.160001</td>\n",
       "      <td>-1.019987</td>\n",
       "      <td>0.039959</td>\n",
       "      <td>27.000064</td>\n",
       "      <td>3.256052</td>\n",
       "      <td>95.999939</td>\n",
       "      <td>95.999908</td>\n",
       "      <td>0</td>\n",
       "    </tr>\n",
       "  </tbody>\n",
       "</table>\n",
       "</div>"
      ],
      "text/plain": [
       "         ax        ay        az       temp       EDA       SpO2         hr  \\\n",
       "0  0.449968 -1.009969 -0.040004  27.000064  3.251014  96.999954  95.999908   \n",
       "1  0.449968 -1.009969 -0.040004  27.000064  3.256052  95.999939  95.999908   \n",
       "2  0.410031 -1.019987 -0.030003  27.000064  3.256052  95.999939  96.999924   \n",
       "3 -0.149989 -0.949998  0.199974  27.000064  3.256052  95.999939  95.999908   \n",
       "4  0.160001 -1.019987  0.039959  27.000064  3.256052  95.999939  95.999908   \n",
       "\n",
       "   class  \n",
       "0      0  \n",
       "1      0  \n",
       "2      0  \n",
       "3      0  \n",
       "4      0  "
      ]
     },
     "execution_count": 7,
     "metadata": {},
     "output_type": "execute_result"
    }
   ],
   "source": [
    "df.head()"
   ]
  },
  {
   "cell_type": "code",
   "execution_count": 9,
   "metadata": {},
   "outputs": [
    {
     "data": {
      "text/plain": [
       "array([[<AxesSubplot:title={'center':'ax'}>,\n",
       "        <AxesSubplot:title={'center':'ay'}>,\n",
       "        <AxesSubplot:title={'center':'az'}>],\n",
       "       [<AxesSubplot:title={'center':'temp'}>,\n",
       "        <AxesSubplot:title={'center':'EDA'}>,\n",
       "        <AxesSubplot:title={'center':'SpO2'}>],\n",
       "       [<AxesSubplot:title={'center':'hr'}>,\n",
       "        <AxesSubplot:title={'center':'class'}>, <AxesSubplot:>]],\n",
       "      dtype=object)"
      ]
     },
     "execution_count": 9,
     "metadata": {},
     "output_type": "execute_result"
    },
    {
     "data": {
      "image/png": "[encoded data removed]",
      "text/plain": [
       "<Figure size 432x288 with 9 Axes>"
      ]
     },
     "metadata": {
      "needs_background": "light"
     },
     "output_type": "display_data"
    }
   ],
   "source": [
    "df.hist()"
   ]
  },
  {
   "cell_type": "code",
   "execution_count": 11,
   "metadata": {},
   "outputs": [
    {
     "name": "stdout",
     "output_type": "stream",
     "text": [
      "class\n",
      "0    1379\n",
      "1     300\n",
      "2     600\n",
      "dtype: int64\n"
     ]
    }
   ],
   "source": [
    "print(df.groupby('class').size())"
   ]
  },
  {
   "cell_type": "code",
   "execution_count": 38,
   "metadata": {},
   "outputs": [
    {
     "data": {
      "text/plain": [
       "<AxesSubplot:>"
      ]
     },
     "execution_count": 38,
     "metadata": {},
     "output_type": "execute_result"
    },
    {
     "data": {
      "image/png": "[encoded data removed]",
      "text/plain": [
       "<Figure size 720x720 with 1 Axes>"
      ]
     },
     "metadata": {
      "needs_background": "light"
     },
     "output_type": "display_data"
    }
   ],
   "source": [
    "plt.figure(figsize=(10,10))\n",
    "sns.boxplot(data=df.iloc[:,:3])"
   ]
  },
  {
   "cell_type": "code",
   "execution_count": 36,
   "metadata": {},
   "outputs": [
    {
     "data": {
      "text/plain": [
       "<AxesSubplot:>"
      ]
     },
     "execution_count": 36,
     "metadata": {},
     "output_type": "execute_result"
    },
    {
     "data": {
      "image/png": "[encoded data removed]",
      "text/plain": [
       "<Figure size 432x288 with 1 Axes>"
      ]
     },
     "metadata": {
      "needs_background": "light"
     },
     "output_type": "display_data"
    }
   ],
   "source": [
    "sns.boxplot(data=df.iloc[])"
   ]
  },
  {
   "cell_type": "code",
   "execution_count": null,
   "metadata": {},
   "outputs": [],
   "source": []
  }
 ],
 "metadata": {
  "kernelspec": {
   "display_name": "Python 3",
   "language": "python",
   "name": "python3"
  },
  "language_info": {
   "codemirror_mode": {
    "name": "ipython",
    "version": 3
   },
   "file_extension": ".py",
   "mimetype": "text/x-python",
   "name": "python",
   "nbconvert_exporter": "python",
   "pygments_lexer": "ipython3",
   "version": "3.8.8"
  }
 },
 "nbformat": 4,
 "nbformat_minor": 4
}
