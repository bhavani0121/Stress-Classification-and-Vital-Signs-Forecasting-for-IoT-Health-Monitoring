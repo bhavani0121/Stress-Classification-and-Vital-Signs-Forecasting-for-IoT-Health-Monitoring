{
 "cells": [
  {
   "cell_type": "code",
   "execution_count": null,
   "metadata": {},
   "outputs": [],
   "source": [
    "## Neural Network\n",
    "mlp = MLPClassifier(random_state=42)\n",
    "mlp=mlp.fit(X_train, y_train)\n",
    "\n",
    "#print(\"Accuracy on training set: {:.2f}\".format(mlp.score(X_train, y_train)))\n",
    "print(\"Accuracy on test set: {:.2f}\".format(mlp.score(X_test, y_test)))\n",
    "prediction=mlp.predict(X_test)\n",
    "cmatrix=confusion_matrix(y_test,prediction)\n",
    "#print(\"Precision  {:.2f}\".format(precision_score(y_test,prediction, average=None)))\n",
    "#print(\"Recall {:.2f}\".format(recall_score(y_test,prediction, labels=[-1,1], average='micro')))\n",
    "plt.figure()\n",
    "plot_confusion_matrix(mlp, X_test, y_test, cmap=plt.cm.Blues_r)\n",
    "plt.show()"
   ]
  },
  {
   "cell_type": "code",
   "execution_count": null,
   "metadata": {},
   "outputs": [],
   "source": [
    "## Random Forest \n",
    "rf = RandomForestClassifier()\n",
    "rf.fit(X_train, y_train)\n",
    "#print(\"Accuracy on training set: {:.3f}\".format(rf.score(X_train, y_train)))\n",
    "print(\"Accuracy on test set: {:.3f}\".format(rf.score(X_test, y_test)))\n",
    "prediction=rf.predict(X_test)\n",
    "cmatrix=confusion_matrix(y_test,prediction)\n",
    "#print(\"Precision  {:.2f}\".format(precision_score(y_test,prediction, average='binary')))\n",
    "#print(\"Recall {:.2f}\".format(recall_score(y_test,prediction, labels=[-1,1], average='micro')))\n",
    "plt.figure()\n",
    "plot_confusion_matrix(rf, X_test, y_test)\n",
    "#plt.savefig('rfcm.png')\n",
    "plt.show()"
   ]
  },
  {
   "cell_type": "code",
   "execution_count": null,
   "metadata": {},
   "outputs": [],
   "source": [
    "## Gradient Boost\n",
    "gb = GradientBoostingClassifier(random_state=0,max_depth=10, learning_rate=0.1)\n",
    "gb.fit(X_train, y_train)\n",
    "\n",
    "#print(\"Accuracy on training set: {:.3f}\".format(gb.score(X_train, y_train)))\n",
    "print(\"Accuracy on test set: {:.3f}\".format(gb.score(X_test, y_test)))\n",
    "plt.figure()\n",
    "plot_confusion_matrix(rf, X_test, y_test)\n",
    "plt.show()"
   ]
  }
 ],
 "metadata": {
  "kernelspec": {
   "display_name": "Python 3",
   "language": "python",
   "name": "python3"
  },
  "language_info": {
   "codemirror_mode": {
    "name": "ipython",
    "version": 3
   },
   "file_extension": ".py",
   "mimetype": "text/x-python",
   "name": "python",
   "nbconvert_exporter": "python",
   "pygments_lexer": "ipython3",
   "version": "3.8.8"
  }
 },
 "nbformat": 4,
 "nbformat_minor": 4
}
